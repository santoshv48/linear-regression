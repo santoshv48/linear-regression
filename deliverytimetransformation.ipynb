{
 "cells": [
  {
   "cell_type": "code",
   "execution_count": 3,
   "id": "861cc13e",
   "metadata": {},
   "outputs": [],
   "source": [
    "import pandas as pd\n",
    "import numpy as np\n",
    "import matplotlib.pyplot as plt\n"
   ]
  },
  {
   "cell_type": "code",
   "execution_count": 4,
   "id": "d77b830d",
   "metadata": {},
   "outputs": [
    {
     "data": {
      "text/html": [
       "<div>\n",
       "<style scoped>\n",
       "    .dataframe tbody tr th:only-of-type {\n",
       "        vertical-align: middle;\n",
       "    }\n",
       "\n",
       "    .dataframe tbody tr th {\n",
       "        vertical-align: top;\n",
       "    }\n",
       "\n",
       "    .dataframe thead th {\n",
       "        text-align: right;\n",
       "    }\n",
       "</style>\n",
       "<table border=\"1\" class=\"dataframe\">\n",
       "  <thead>\n",
       "    <tr style=\"text-align: right;\">\n",
       "      <th></th>\n",
       "      <th>Delivery Time</th>\n",
       "      <th>Sorting Time</th>\n",
       "    </tr>\n",
       "  </thead>\n",
       "  <tbody>\n",
       "    <tr>\n",
       "      <th>0</th>\n",
       "      <td>21.00</td>\n",
       "      <td>10</td>\n",
       "    </tr>\n",
       "    <tr>\n",
       "      <th>1</th>\n",
       "      <td>13.50</td>\n",
       "      <td>4</td>\n",
       "    </tr>\n",
       "    <tr>\n",
       "      <th>2</th>\n",
       "      <td>19.75</td>\n",
       "      <td>6</td>\n",
       "    </tr>\n",
       "    <tr>\n",
       "      <th>3</th>\n",
       "      <td>24.00</td>\n",
       "      <td>9</td>\n",
       "    </tr>\n",
       "    <tr>\n",
       "      <th>4</th>\n",
       "      <td>29.00</td>\n",
       "      <td>10</td>\n",
       "    </tr>\n",
       "  </tbody>\n",
       "</table>\n",
       "</div>"
      ],
      "text/plain": [
       "   Delivery Time  Sorting Time\n",
       "0          21.00            10\n",
       "1          13.50             4\n",
       "2          19.75             6\n",
       "3          24.00             9\n",
       "4          29.00            10"
      ]
     },
     "execution_count": 4,
     "metadata": {},
     "output_type": "execute_result"
    }
   ],
   "source": [
    "data = pd.read_csv('delivery_time.csv')\n",
    "data.head()"
   ]
  },
  {
   "cell_type": "code",
   "execution_count": 5,
   "id": "4216b213",
   "metadata": {},
   "outputs": [
    {
     "data": {
      "text/html": [
       "<div>\n",
       "<style scoped>\n",
       "    .dataframe tbody tr th:only-of-type {\n",
       "        vertical-align: middle;\n",
       "    }\n",
       "\n",
       "    .dataframe tbody tr th {\n",
       "        vertical-align: top;\n",
       "    }\n",
       "\n",
       "    .dataframe thead th {\n",
       "        text-align: right;\n",
       "    }\n",
       "</style>\n",
       "<table border=\"1\" class=\"dataframe\">\n",
       "  <thead>\n",
       "    <tr style=\"text-align: right;\">\n",
       "      <th></th>\n",
       "      <th>Delivery Time</th>\n",
       "      <th>Sorting Time</th>\n",
       "    </tr>\n",
       "  </thead>\n",
       "  <tbody>\n",
       "    <tr>\n",
       "      <th>count</th>\n",
       "      <td>21.000000</td>\n",
       "      <td>21.000000</td>\n",
       "    </tr>\n",
       "    <tr>\n",
       "      <th>mean</th>\n",
       "      <td>16.790952</td>\n",
       "      <td>6.190476</td>\n",
       "    </tr>\n",
       "    <tr>\n",
       "      <th>std</th>\n",
       "      <td>5.074901</td>\n",
       "      <td>2.542028</td>\n",
       "    </tr>\n",
       "    <tr>\n",
       "      <th>min</th>\n",
       "      <td>8.000000</td>\n",
       "      <td>2.000000</td>\n",
       "    </tr>\n",
       "    <tr>\n",
       "      <th>25%</th>\n",
       "      <td>13.500000</td>\n",
       "      <td>4.000000</td>\n",
       "    </tr>\n",
       "    <tr>\n",
       "      <th>50%</th>\n",
       "      <td>17.830000</td>\n",
       "      <td>6.000000</td>\n",
       "    </tr>\n",
       "    <tr>\n",
       "      <th>75%</th>\n",
       "      <td>19.750000</td>\n",
       "      <td>8.000000</td>\n",
       "    </tr>\n",
       "    <tr>\n",
       "      <th>max</th>\n",
       "      <td>29.000000</td>\n",
       "      <td>10.000000</td>\n",
       "    </tr>\n",
       "  </tbody>\n",
       "</table>\n",
       "</div>"
      ],
      "text/plain": [
       "       Delivery Time  Sorting Time\n",
       "count      21.000000     21.000000\n",
       "mean       16.790952      6.190476\n",
       "std         5.074901      2.542028\n",
       "min         8.000000      2.000000\n",
       "25%        13.500000      4.000000\n",
       "50%        17.830000      6.000000\n",
       "75%        19.750000      8.000000\n",
       "max        29.000000     10.000000"
      ]
     },
     "execution_count": 5,
     "metadata": {},
     "output_type": "execute_result"
    }
   ],
   "source": [
    "data.describe()"
   ]
  },
  {
   "cell_type": "code",
   "execution_count": 7,
   "id": "ef1da4b5",
   "metadata": {},
   "outputs": [
    {
     "data": {
      "text/html": [
       "<div>\n",
       "<style scoped>\n",
       "    .dataframe tbody tr th:only-of-type {\n",
       "        vertical-align: middle;\n",
       "    }\n",
       "\n",
       "    .dataframe tbody tr th {\n",
       "        vertical-align: top;\n",
       "    }\n",
       "\n",
       "    .dataframe thead th {\n",
       "        text-align: right;\n",
       "    }\n",
       "</style>\n",
       "<table border=\"1\" class=\"dataframe\">\n",
       "  <thead>\n",
       "    <tr style=\"text-align: right;\">\n",
       "      <th></th>\n",
       "      <th>delivery_time</th>\n",
       "      <th>sorting_time</th>\n",
       "    </tr>\n",
       "  </thead>\n",
       "  <tbody>\n",
       "    <tr>\n",
       "      <th>0</th>\n",
       "      <td>21.00</td>\n",
       "      <td>10</td>\n",
       "    </tr>\n",
       "    <tr>\n",
       "      <th>1</th>\n",
       "      <td>13.50</td>\n",
       "      <td>4</td>\n",
       "    </tr>\n",
       "    <tr>\n",
       "      <th>2</th>\n",
       "      <td>19.75</td>\n",
       "      <td>6</td>\n",
       "    </tr>\n",
       "    <tr>\n",
       "      <th>3</th>\n",
       "      <td>24.00</td>\n",
       "      <td>9</td>\n",
       "    </tr>\n",
       "    <tr>\n",
       "      <th>4</th>\n",
       "      <td>29.00</td>\n",
       "      <td>10</td>\n",
       "    </tr>\n",
       "    <tr>\n",
       "      <th>5</th>\n",
       "      <td>15.35</td>\n",
       "      <td>6</td>\n",
       "    </tr>\n",
       "    <tr>\n",
       "      <th>6</th>\n",
       "      <td>19.00</td>\n",
       "      <td>7</td>\n",
       "    </tr>\n",
       "    <tr>\n",
       "      <th>7</th>\n",
       "      <td>9.50</td>\n",
       "      <td>3</td>\n",
       "    </tr>\n",
       "    <tr>\n",
       "      <th>8</th>\n",
       "      <td>17.90</td>\n",
       "      <td>10</td>\n",
       "    </tr>\n",
       "    <tr>\n",
       "      <th>9</th>\n",
       "      <td>18.75</td>\n",
       "      <td>9</td>\n",
       "    </tr>\n",
       "    <tr>\n",
       "      <th>10</th>\n",
       "      <td>19.83</td>\n",
       "      <td>8</td>\n",
       "    </tr>\n",
       "    <tr>\n",
       "      <th>11</th>\n",
       "      <td>10.75</td>\n",
       "      <td>4</td>\n",
       "    </tr>\n",
       "    <tr>\n",
       "      <th>12</th>\n",
       "      <td>16.68</td>\n",
       "      <td>7</td>\n",
       "    </tr>\n",
       "    <tr>\n",
       "      <th>13</th>\n",
       "      <td>11.50</td>\n",
       "      <td>3</td>\n",
       "    </tr>\n",
       "    <tr>\n",
       "      <th>14</th>\n",
       "      <td>12.03</td>\n",
       "      <td>3</td>\n",
       "    </tr>\n",
       "    <tr>\n",
       "      <th>15</th>\n",
       "      <td>14.88</td>\n",
       "      <td>4</td>\n",
       "    </tr>\n",
       "    <tr>\n",
       "      <th>16</th>\n",
       "      <td>13.75</td>\n",
       "      <td>6</td>\n",
       "    </tr>\n",
       "    <tr>\n",
       "      <th>17</th>\n",
       "      <td>18.11</td>\n",
       "      <td>7</td>\n",
       "    </tr>\n",
       "    <tr>\n",
       "      <th>18</th>\n",
       "      <td>8.00</td>\n",
       "      <td>2</td>\n",
       "    </tr>\n",
       "    <tr>\n",
       "      <th>19</th>\n",
       "      <td>17.83</td>\n",
       "      <td>7</td>\n",
       "    </tr>\n",
       "    <tr>\n",
       "      <th>20</th>\n",
       "      <td>21.50</td>\n",
       "      <td>5</td>\n",
       "    </tr>\n",
       "  </tbody>\n",
       "</table>\n",
       "</div>"
      ],
      "text/plain": [
       "    delivery_time  sorting_time\n",
       "0           21.00            10\n",
       "1           13.50             4\n",
       "2           19.75             6\n",
       "3           24.00             9\n",
       "4           29.00            10\n",
       "5           15.35             6\n",
       "6           19.00             7\n",
       "7            9.50             3\n",
       "8           17.90            10\n",
       "9           18.75             9\n",
       "10          19.83             8\n",
       "11          10.75             4\n",
       "12          16.68             7\n",
       "13          11.50             3\n",
       "14          12.03             3\n",
       "15          14.88             4\n",
       "16          13.75             6\n",
       "17          18.11             7\n",
       "18           8.00             2\n",
       "19          17.83             7\n",
       "20          21.50             5"
      ]
     },
     "execution_count": 7,
     "metadata": {},
     "output_type": "execute_result"
    }
   ],
   "source": [
    "data1=data.rename({'Delivery Time':'delivery_time','Sorting Time':'sorting_time'},axis=1)\n",
    "data1"
   ]
  },
  {
   "cell_type": "markdown",
   "id": "7f2c1955",
   "metadata": {},
   "source": [
    "Data Visualisation"
   ]
  },
  {
   "cell_type": "code",
   "execution_count": 8,
   "id": "9edf2a73",
   "metadata": {},
   "outputs": [
    {
     "data": {
      "image/png": "[encoded data removed]",
      "text/plain": [
       "<Figure size 640x480 with 1 Axes>"
      ]
     },
     "metadata": {},
     "output_type": "display_data"
    }
   ],
   "source": [
    "data1.plot(x='sorting_time',y='delivery_time',style='o')\n",
    "plt.title('sorting_timevsdelivery_time')\n",
    "plt.xlabel('sorting_time')\n",
    "plt.ylabel('delivery_time')\n",
    "plt.show()"
   ]
  },
  {
   "cell_type": "code",
   "execution_count": 9,
   "id": "18cdeeca",
   "metadata": {},
   "outputs": [
    {
     "name": "stdout",
     "output_type": "stream",
     "text": [
      "pearsons correlation:0.826\n",
      "Spearmans correlation:0.806\n"
     ]
    }
   ],
   "source": [
    "from scipy.stats import pearsonr\n",
    "corr,_= pearsonr(data1['delivery_time'],data1['sorting_time'])\n",
    "print('pearsons correlation:%.3f'% corr)\n",
    "from scipy.stats import spearmanr\n",
    "corr,_=spearmanr(data1['delivery_time'],data1['sorting_time'])\n",
    "print('Spearmans correlation:%.3f'% corr)"
   ]
  },
  {
   "cell_type": "code",
   "execution_count": 10,
   "id": "810c1069",
   "metadata": {},
   "outputs": [
    {
     "name": "stderr",
     "output_type": "stream",
     "text": [
      "C:\\Users\\Santosh\\anaconda3\\lib\\site-packages\\seaborn\\distributions.py:2619: FutureWarning: `distplot` is a deprecated function and will be removed in a future version. Please adapt your code to use either `displot` (a figure-level function with similar flexibility) or `histplot` (an axes-level function for histograms).\n",
      "  warnings.warn(msg, FutureWarning)\n"
     ]
    },
    {
     "data": {
      "image/png": "[encoded data removed]",
      "text/plain": [
       "<Figure size 800x700 with 1 Axes>"
      ]
     },
     "metadata": {},
     "output_type": "display_data"
    }
   ],
   "source": [
    "import seaborn as sns\n",
    "plt.figure(figsize=(8,7))\n",
    "plt.tight_layout()\n",
    "sns.distplot(data1['sorting_time'])\n",
    "plt.show()"
   ]
  },
  {
   "cell_type": "code",
   "execution_count": 11,
   "id": "fca4466b",
   "metadata": {},
   "outputs": [
    {
     "name": "stderr",
     "output_type": "stream",
     "text": [
      "C:\\Users\\Santosh\\anaconda3\\lib\\site-packages\\seaborn\\distributions.py:2619: FutureWarning: `distplot` is a deprecated function and will be removed in a future version. Please adapt your code to use either `displot` (a figure-level function with similar flexibility) or `histplot` (an axes-level function for histograms).\n",
      "  warnings.warn(msg, FutureWarning)\n"
     ]
    },
    {
     "data": {
      "image/png": "[encoded data removed]",
      "text/plain": [
       "<Figure size 800x700 with 1 Axes>"
      ]
     },
     "metadata": {},
     "output_type": "display_data"
    }
   ],
   "source": [
    "plt.figure(figsize=(8,7))\n",
    "plt.tight_layout()\n",
    "sns.distplot(data1['delivery_time'])\n",
    "plt.show()"
   ]
  },
  {
   "cell_type": "code",
   "execution_count": 12,
   "id": "32d0d749",
   "metadata": {},
   "outputs": [
    {
     "name": "stdout",
     "output_type": "stream",
     "text": [
      "[[10]\n",
      " [ 4]\n",
      " [ 6]\n",
      " [ 9]\n",
      " [10]\n",
      " [ 6]\n",
      " [ 7]\n",
      " [ 3]\n",
      " [10]\n",
      " [ 9]\n",
      " [ 8]\n",
      " [ 4]\n",
      " [ 7]\n",
      " [ 3]\n",
      " [ 3]\n",
      " [ 4]\n",
      " [ 6]\n",
      " [ 7]\n",
      " [ 2]\n",
      " [ 7]\n",
      " [ 5]]\n"
     ]
    }
   ],
   "source": [
    "X=data1['sorting_time'].values.reshape(-1,1)\n",
    "print(X)\n",
    "y=data1['delivery_time'].values.reshape(-1,1)"
   ]
  },
  {
   "cell_type": "code",
   "execution_count": 13,
   "id": "fed7a57a",
   "metadata": {},
   "outputs": [],
   "source": [
    "from sklearn.model_selection import train_test_split\n",
    "from sklearn.linear_model import LinearRegression\n",
    "from sklearn import metrics"
   ]
  },
  {
   "cell_type": "code",
   "execution_count": 14,
   "id": "9dec017d",
   "metadata": {},
   "outputs": [],
   "source": [
    "X_train,X_test,y_train,y_test = train_test_split(X,y,test_size=0.2,random_state=42)"
   ]
  },
  {
   "cell_type": "code",
   "execution_count": 15,
   "id": "51a49eda",
   "metadata": {},
   "outputs": [],
   "source": [
    "predict_reg = LinearRegression()"
   ]
  },
  {
   "cell_type": "markdown",
   "id": "af2af8cb",
   "metadata": {},
   "source": [
    "Train the model using linear regression"
   ]
  },
  {
   "cell_type": "code",
   "execution_count": 16,
   "id": "ec96a1df",
   "metadata": {},
   "outputs": [
    {
     "data": {
      "text/plain": [
       "LinearRegression()"
      ]
     },
     "execution_count": 16,
     "metadata": {},
     "output_type": "execute_result"
    }
   ],
   "source": [
    "predict_reg.fit(X_train,y_train)"
   ]
  },
  {
   "cell_type": "code",
   "execution_count": 17,
   "id": "364ec103",
   "metadata": {},
   "outputs": [
    {
     "name": "stdout",
     "output_type": "stream",
     "text": [
      "intercept value of model is  [4.68229796]\n",
      "coefficient value of model is [[2.02424455]]\n"
     ]
    }
   ],
   "source": [
    "print('intercept value of model is ',predict_reg.intercept_)\n",
    "print('coefficient value of model is',predict_reg.coef_)\n"
   ]
  },
  {
   "cell_type": "code",
   "execution_count": 18,
   "id": "1435eea0",
   "metadata": {},
   "outputs": [],
   "source": [
    "y_pred = predict_reg.predict(X_test)"
   ]
  },
  {
   "cell_type": "code",
   "execution_count": 19,
   "id": "74a30f9c",
   "metadata": {},
   "outputs": [
    {
     "data": {
      "text/html": [
       "<div>\n",
       "<style scoped>\n",
       "    .dataframe tbody tr th:only-of-type {\n",
       "        vertical-align: middle;\n",
       "    }\n",
       "\n",
       "    .dataframe tbody tr th {\n",
       "        vertical-align: top;\n",
       "    }\n",
       "\n",
       "    .dataframe thead th {\n",
       "        text-align: right;\n",
       "    }\n",
       "</style>\n",
       "<table border=\"1\" class=\"dataframe\">\n",
       "  <thead>\n",
       "    <tr style=\"text-align: right;\">\n",
       "      <th></th>\n",
       "      <th>Actual</th>\n",
       "      <th>predict</th>\n",
       "    </tr>\n",
       "  </thead>\n",
       "  <tbody>\n",
       "    <tr>\n",
       "      <th>0</th>\n",
       "      <td>21.00</td>\n",
       "      <td>24.924743</td>\n",
       "    </tr>\n",
       "    <tr>\n",
       "      <th>1</th>\n",
       "      <td>18.11</td>\n",
       "      <td>18.852010</td>\n",
       "    </tr>\n",
       "    <tr>\n",
       "      <th>2</th>\n",
       "      <td>14.88</td>\n",
       "      <td>12.779276</td>\n",
       "    </tr>\n",
       "    <tr>\n",
       "      <th>3</th>\n",
       "      <td>13.50</td>\n",
       "      <td>12.779276</td>\n",
       "    </tr>\n",
       "    <tr>\n",
       "      <th>4</th>\n",
       "      <td>17.90</td>\n",
       "      <td>24.924743</td>\n",
       "    </tr>\n",
       "  </tbody>\n",
       "</table>\n",
       "</div>"
      ],
      "text/plain": [
       "   Actual    predict\n",
       "0   21.00  24.924743\n",
       "1   18.11  18.852010\n",
       "2   14.88  12.779276\n",
       "3   13.50  12.779276\n",
       "4   17.90  24.924743"
      ]
     },
     "execution_count": 19,
     "metadata": {},
     "output_type": "execute_result"
    }
   ],
   "source": [
    "pmsh_pf = pd.DataFrame({'Actual':y_test.flatten(),'predict':y_pred.flatten()})\n",
    "pmsh_pf"
   ]
  },
  {
   "cell_type": "code",
   "execution_count": 20,
   "id": "98897d59",
   "metadata": {},
   "outputs": [
    {
     "data": {
      "image/png": "[encoded data removed]",
      "text/plain": [
       "<Figure size 640x480 with 1 Axes>"
      ]
     },
     "metadata": {},
     "output_type": "display_data"
    }
   ],
   "source": [
    "plt.scatter(X_test,y_test,color = 'violet')\n",
    "plt.plot(X_test,y_pred,color = 'red',linewidth=2)\n",
    "plt.show()"
   ]
  },
  {
   "cell_type": "code",
   "execution_count": 21,
   "id": "78007590",
   "metadata": {},
   "outputs": [
    {
     "name": "stdout",
     "output_type": "stream",
     "text": [
      "Mean Absolute Error : 2.9025888966971176\n",
      "Mean squared Error: 14.046738956635016\n",
      "Root mean squared error: 3.7478979383962705\n",
      "R^2 score: -1.0207599586367362\n"
     ]
    }
   ],
   "source": [
    "print('Mean Absolute Error :',metrics.mean_absolute_error(y_test,y_pred))\n",
    "print('Mean squared Error:',metrics.mean_squared_error(y_test,y_pred))\n",
    "print('Root mean squared error:',np.sqrt(metrics.mean_squared_error(y_test,y_pred)))\n",
    "print('R^2 score:',metrics.r2_score(y_test,y_pred))"
   ]
  },
  {
   "cell_type": "markdown",
   "id": "2a416d66",
   "metadata": {},
   "source": [
    "Logirthem Transformation\n",
    "\n",
    "y=a+b*log(x)"
   ]
  },
  {
   "cell_type": "code",
   "execution_count": 22,
   "id": "9cd1d2ba",
   "metadata": {},
   "outputs": [],
   "source": [
    "#input data set\n",
    "\n",
    "X_log = np.log(data1['sorting_time'].values.reshape(-1,1))\n",
    "\n",
    "#output or predicted value of data\n",
    "y_log = data1['delivery_time'].values.reshape(-1,1)"
   ]
  },
  {
   "cell_type": "code",
   "execution_count": 23,
   "id": "478b51d7",
   "metadata": {},
   "outputs": [],
   "source": [
    "X_train_log,X_test_log,y_train_log,y_test_log = train_test_split(X_log,y_log,test_size=0.2,random_state=42)"
   ]
  },
  {
   "cell_type": "code",
   "execution_count": 24,
   "id": "0a9a5270",
   "metadata": {},
   "outputs": [
    {
     "data": {
      "text/plain": [
       "LinearRegression()"
      ]
     },
     "execution_count": 24,
     "metadata": {},
     "output_type": "execute_result"
    }
   ],
   "source": [
    "y_pred_log = LinearRegression()\n",
    "y_pred_log.fit(X_train_log,y_train_log)"
   ]
  },
  {
   "cell_type": "code",
   "execution_count": 25,
   "id": "feeaecb7",
   "metadata": {},
   "outputs": [
    {
     "name": "stdout",
     "output_type": "stream",
     "text": [
      "intercept value of model is  [-0.31865575]\n",
      "coefficient value of model is [[10.09551654]]\n"
     ]
    }
   ],
   "source": [
    "print(\"intercept value of model is \",y_pred_log.intercept_)\n",
    "print(\"coefficient value of model is\",y_pred_log.coef_)"
   ]
  },
  {
   "cell_type": "code",
   "execution_count": 26,
   "id": "3aca776a",
   "metadata": {},
   "outputs": [
    {
     "data": {
      "text/plain": [
       "array([[22.92713014],\n",
       "       [19.32631235],\n",
       "       [13.6767019 ],\n",
       "       [13.6767019 ],\n",
       "       [22.92713014]])"
      ]
     },
     "execution_count": 26,
     "metadata": {},
     "output_type": "execute_result"
    }
   ],
   "source": [
    "log_model = y_pred_log.predict(X_test_log)\n",
    "log_model"
   ]
  },
  {
   "cell_type": "code",
   "execution_count": 27,
   "id": "0021c3cd",
   "metadata": {},
   "outputs": [
    {
     "data": {
      "text/html": [
       "<div>\n",
       "<style scoped>\n",
       "    .dataframe tbody tr th:only-of-type {\n",
       "        vertical-align: middle;\n",
       "    }\n",
       "\n",
       "    .dataframe tbody tr th {\n",
       "        vertical-align: top;\n",
       "    }\n",
       "\n",
       "    .dataframe thead th {\n",
       "        text-align: right;\n",
       "    }\n",
       "</style>\n",
       "<table border=\"1\" class=\"dataframe\">\n",
       "  <thead>\n",
       "    <tr style=\"text-align: right;\">\n",
       "      <th></th>\n",
       "      <th>Actual</th>\n",
       "      <th>Predict</th>\n",
       "    </tr>\n",
       "  </thead>\n",
       "  <tbody>\n",
       "    <tr>\n",
       "      <th>0</th>\n",
       "      <td>21.00</td>\n",
       "      <td>22.927130</td>\n",
       "    </tr>\n",
       "    <tr>\n",
       "      <th>1</th>\n",
       "      <td>18.11</td>\n",
       "      <td>19.326312</td>\n",
       "    </tr>\n",
       "    <tr>\n",
       "      <th>2</th>\n",
       "      <td>14.88</td>\n",
       "      <td>13.676702</td>\n",
       "    </tr>\n",
       "    <tr>\n",
       "      <th>3</th>\n",
       "      <td>13.50</td>\n",
       "      <td>13.676702</td>\n",
       "    </tr>\n",
       "    <tr>\n",
       "      <th>4</th>\n",
       "      <td>17.90</td>\n",
       "      <td>22.927130</td>\n",
       "    </tr>\n",
       "  </tbody>\n",
       "</table>\n",
       "</div>"
      ],
      "text/plain": [
       "   Actual    Predict\n",
       "0   21.00  22.927130\n",
       "1   18.11  19.326312\n",
       "2   14.88  13.676702\n",
       "3   13.50  13.676702\n",
       "4   17.90  22.927130"
      ]
     },
     "execution_count": 27,
     "metadata": {},
     "output_type": "execute_result"
    }
   ],
   "source": [
    "pmsh_pf_1 = pd.DataFrame({'Actual':y_test_log.flatten(),'Predict':log_model.flatten()})\n",
    "pmsh_pf_1"
   ]
  },
  {
   "cell_type": "code",
   "execution_count": 28,
   "id": "70315414",
   "metadata": {},
   "outputs": [
    {
     "data": {
      "image/png": "[encoded data removed]",
      "text/plain": [
       "<Figure size 640x480 with 1 Axes>"
      ]
     },
     "metadata": {},
     "output_type": "display_data"
    }
   ],
   "source": [
    "plt.scatter(X_test_log,y_test_log,color = 'violet')\n",
    "plt.plot(X_test_log,log_model,color='red',linewidth=2)\n",
    "plt.show()"
   ]
  },
  {
   "cell_type": "markdown",
   "id": "b52d3b04",
   "metadata": {},
   "source": [
    "calculate error rate of logrithm transformation model"
   ]
  },
  {
   "cell_type": "code",
   "execution_count": 29,
   "id": "bedef2ad",
   "metadata": {},
   "outputs": [
    {
     "name": "stdout",
     "output_type": "stream",
     "text": [
      "mean absolute error: 1.910114526185978\n",
      "mean squared error: 6.388886730349971\n",
      "root mean squared error: 2.5276247210276233\n",
      "R^2 score: 0.08089653229737481\n"
     ]
    }
   ],
   "source": [
    "print('mean absolute error:',metrics.mean_absolute_error(y_test_log,log_model))\n",
    "print('mean squared error:',metrics.mean_squared_error(y_test_log,log_model))\n",
    "print('root mean squared error:',np.sqrt(metrics.mean_squared_error(y_test_log,log_model)))\n",
    "print('R^2 score:',metrics.r2_score(y_test_log,log_model))"
   ]
  },
  {
   "cell_type": "markdown",
   "id": "41ce279a",
   "metadata": {},
   "source": [
    "Exponential transformation model\n",
    "\n",
    "log(y) = α+β×+Ɛ"
   ]
  },
  {
   "cell_type": "code",
   "execution_count": 50,
   "id": "d5010e56",
   "metadata": {},
   "outputs": [],
   "source": [
    "#input dataset\n",
    "\n",
    "X_elog = data1[''].values.reshape(-1,1)\n",
    "\n",
    "#output\n",
    "y_elog = np.log(data['Salary'].values.reshape(-1,1))"
   ]
  },
  {
   "cell_type": "code",
   "execution_count": 52,
   "id": "8556ca90",
   "metadata": {},
   "outputs": [],
   "source": [
    "X_train_exp,X_test_exp,y_train_exp,y_test_exp = train_test_split(X_elog,y_elog,test_size=0.2,random_state=42)"
   ]
  },
  {
   "cell_type": "code",
   "execution_count": 54,
   "id": "f6b291ff",
   "metadata": {},
   "outputs": [
    {
     "data": {
      "text/plain": [
       "LinearRegression()"
      ]
     },
     "execution_count": 54,
     "metadata": {},
     "output_type": "execute_result"
    }
   ],
   "source": [
    "exp_model = LinearRegression()\n",
    "exp_model.fit(X_train_exp,y_train_exp)\n"
   ]
  },
  {
   "cell_type": "code",
   "execution_count": 56,
   "id": "7375b90f",
   "metadata": {},
   "outputs": [
    {
     "name": "stdout",
     "output_type": "stream",
     "text": [
      "exponential intercept value of model [10.48525073]\n",
      "expenential coefficient value of model [[0.12704681]]\n"
     ]
    }
   ],
   "source": [
    "print('exponential intercept value of model',exp_model.intercept_)\n",
    "print('expenential coefficient value of model',exp_model.coef_)"
   ]
  },
  {
   "cell_type": "code",
   "execution_count": 57,
   "id": "c7bf4bf4",
   "metadata": {},
   "outputs": [
    {
     "data": {
      "text/plain": [
       "array([[11.70490014],\n",
       "       [11.10778012],\n",
       "       [11.5270346 ],\n",
       "       [11.15859884],\n",
       "       [10.89180053],\n",
       "       [10.95532394]])"
      ]
     },
     "execution_count": 57,
     "metadata": {},
     "output_type": "execute_result"
    }
   ],
   "source": [
    "exp_model_pred = exp_model.predict(X_test_exp)\n",
    "exp_model_pred"
   ]
  },
  {
   "cell_type": "code",
   "execution_count": 58,
   "id": "1a504239",
   "metadata": {},
   "outputs": [
    {
     "data": {
      "image/png": "[encoded data removed]",
      "text/plain": [
       "<Figure size 640x480 with 1 Axes>"
      ]
     },
     "metadata": {},
     "output_type": "display_data"
    }
   ],
   "source": [
    "plt.scatter(X_test_exp,y_test_exp,color = 'violet')\n",
    "plt.plot(X_test_exp,exp_model_pred,color='red')\n",
    "plt.show()"
   ]
  },
  {
   "cell_type": "code",
   "execution_count": 60,
   "id": "f5d5f081",
   "metadata": {},
   "outputs": [
    {
     "name": "stdout",
     "output_type": "stream",
     "text": [
      "mean absolute error: 0.09314373254401727\n",
      "mean squared error: 0.013430075287585596\n",
      "root mean squared error: 0.11588820167551828\n",
      "R^2 Score: 0.8120949075482874\n"
     ]
    }
   ],
   "source": [
    "print('mean absolute error:',metrics.mean_absolute_error(y_test_exp,exp_model_pred))\n",
    "print('mean squared error:',metrics.mean_squared_error(y_test_exp,exp_model_pred))\n",
    "print('root mean squared error:',np.sqrt(metrics.mean_squared_error(y_test_exp,exp_model_pred)))\n",
    "print('R^2 Score:',metrics.r2_score(y_test_exp,exp_model_pred))"
   ]
  },
  {
   "cell_type": "code",
   "execution_count": null,
   "id": "c6b3c8a6",
   "metadata": {},
   "outputs": [],
   "source": []
  }
 ],
 "metadata": {
  "kernelspec": {
   "display_name": "Python 3 (ipykernel)",
   "language": "python",
   "name": "python3"
  },
  "language_info": {
   "codemirror_mode": {
    "name": "ipython",
    "version": 3
   },
   "file_extension": ".py",
   "mimetype": "text/x-python",
   "name": "python",
   "nbconvert_exporter": "python",
   "pygments_lexer": "ipython3",
   "version": "3.9.13"
  }
 },
 "nbformat": 4,
 "nbformat_minor": 5
}
